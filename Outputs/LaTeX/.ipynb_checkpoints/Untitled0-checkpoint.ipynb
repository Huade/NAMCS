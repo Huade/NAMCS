{
 "metadata": {
  "name": "",
  "signature": "sha256:bbf36a716e8de3fbe560c54f4bc4a92a99ebba004aa40abfd12c7dbc2b6230ff"
 },
 "nbformat": 3,
 "nbformat_minor": 0,
 "worksheets": []
}